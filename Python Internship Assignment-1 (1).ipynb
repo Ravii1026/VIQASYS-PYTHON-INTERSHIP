{
 "cells": [
  {
   "cell_type": "markdown",
   "metadata": {},
   "source": [
    "___\n",
    "\n",
    "<a href='https://viqasys.com/wp-content/uploads/2021/07/ns1.png'><img src='https://viqasys.com/wp-content/uploads/2021/07/ns1.png'/></a>\n",
    "___\n",
    "<center><em>Content Copyright VIQASYS INNOVATIONS PVT LTD.</em></center>\n",
    "\n",
    "# Assignment 1"
   ]
  },
  {
   "cell_type": "markdown",
   "metadata": {},
   "source": [
    "# Question 1\n",
    "\n",
    "In the below elements, identify which of them are values or expressions. Values can be integers or strings, while expressions will be mathematical operators or combinations thereof.\n",
    "'hello', \n",
    "-87., ), o, lu, alu, ssion)'(Value))str\" (Value)"
   ]
  },
  {
   "cell_type": "code",
   "execution_count": null,
   "metadata": {},
   "outputs": [],
   "source": [
    "\n",
    "\n",
    "'hello' - This is a string value.\n",
    "-87. - This is a floating-point number value.\n",
    ") - This appears to be a parenthesis character, not a value or expression.\n",
    "o - This appears to be a variable or identifier, not a value or expression.\n",
    "lu - This appears to be a variable or identifier, not a value or expression.\n",
    "alu - This appears to be a variable or identifier, not a value or expression.\n",
    "ssion)'(Value))str - This appears to be a string value.\n",
    "(Value) - This appears to be a parenthesized expression.\n",
    "\" (Value)\" - This is a string value."
   ]
  },
  {
   "cell_type": "markdown",
   "metadata": {},
   "source": [
    "## Question 2\n",
    "\n",
    "Explain the difference between a string and a variable.\n"
   ]
  },
  {
   "cell_type": "code",
   "execution_count": null,
   "metadata": {},
   "outputs": [],
   "source": [
    "A string is a sequence of characters, typically used to represent textual data.\n",
    "A variable is a named storage location that can hold various types of data, including strings.\n",
    "Strings are a type of data, while variables are containers for storing and manipulating data."
   ]
  },
  {
   "cell_type": "markdown",
   "metadata": {},
   "source": [
    "## Question 3\n",
    "Describe three different data types commonly used in programming"
   ]
  },
  {
   "cell_type": "code",
   "execution_count": null,
   "metadata": {},
   "outputs": [],
   "source": [
    "1. Integer (int):\n",
    "    -> An integer is a data type used to represent whole numbers, both positive and negative, without any fractional or decimal components.\n",
    "    -> Integers can be used to represent quantities such as counts, indices, or identifiers.\n",
    "    -> In many programming languages, integers have a fixed range of values determined by the number of bits used to store them. Common integer sizes include 8-bit, 16-bit, 32-bit, and 64-bit.\n",
    "    -> Examples of integers: -3, 0, 42, 1000.\n",
    "2.String (str):\n",
    "    -> A string is a data type used to represent a sequence of characters, such as letters, digits, and symbols.\n",
    "    -> Strings are commonly used to store and manipulate textual data, such as names, sentences, or entire documents.\n",
    "    -> Strings are typically immutable, meaning their contents cannot be changed after they are created in many programming languages.\n",
    "    -> Examples of strings: \"Hello, world!\", \"Python\", \"12345\".\n",
    "3.Floating-point (float):\n",
    "    -> A floating-point number is a data type used to represent real numbers, including both integer and fractional components, with a decimal point.\n",
    "    -> Floating-point numbers are useful for representing quantities that require a high degree of precision, such as measurements, scientific computations, and monetary values.\n",
    "    -> Floating-point numbers are stored in a binary format using a sign bit, exponent, and mantissa.\n",
    "    -> Floating-point numbers have limited precision, and operations involving them may result in rounding errors.\n",
    "    -> Examples of floating-point numbers: -3.14, 0.5, 6.02e23 (Avogadro's number), 1.618 (Golden ratio)."
   ]
  },
  {
   "cell_type": "markdown",
   "metadata": {},
   "source": [
    "## Question 4\n",
    "What is an expression made up of? What is the general purpose of expressions?\n"
   ]
  },
  {
   "cell_type": "code",
   "execution_count": null,
   "metadata": {},
   "outputs": [],
   "source": [
    "-> An expression is composed of operands (variables, constants, or values) and operators (symbols representing actions or computations).\n",
    "-> Its purpose is to compute or derive a value based on the given operands and operators.\n",
    "-> Expressions are used for performing computations, assigning values, evaluating conditions, and invoking functions within programming languages.\n",
    "\n",
    "# Example 1: Arithmetic Expression\n",
    "result = 3 + 5 * 2  # Computes the result of adding 3 to the product of 5 and 2\n",
    "print(result)       # Output: 13\n",
    "\n",
    "# Example 2: Comparison Expression\n",
    "is_greater = 10 > 5  # Checks if 10 is greater than 5\n",
    "print(is_greater)    # Output: True\n",
    "\n",
    "# Example 3: Assignment Expression\n",
    "x = 10               # Assigns the value 10 to the variable x\n",
    "print(x)             # Output: 10\n",
    "\n",
    "# Example 4: Function Invocation Expression\n",
    "length = len(\"hello\")  # Invokes the len() function to find the length of the string \"hello\"\n",
    "print(length)          # Output: 5\n"
   ]
  },
  {
   "cell_type": "markdown",
   "metadata": {},
   "source": [
    "## Question 5\n",
    "\n",
    "Explain the difference between an expression and a statement, using examples if necessary."
   ]
  },
  {
   "cell_type": "code",
   "execution_count": null,
   "metadata": {},
   "outputs": [],
   "source": [
    "1. Expression:\n",
    "    -> An expression is a combination of values, variables, operators, and function calls that evaluates to a single value.\n",
    "    -> Expressions are usually part of a larger statement or can stand alone.\n",
    "    -> They can be used wherever a value is expected in the program.\n",
    "    -> Expressions can be as simple as a single value or as complex as a multi-level computation.\n",
    "    -> Examples of expressions: 3 + 5, x * y, len(\"hello\"), (a > b) and (c < d).\n",
    "2. Statement:\n",
    "    -> A statement is a complete instruction that performs some action, alters the program state, or controls the flow of execution.\n",
    "    -> Unlike expressions, statements do not necessarily produce a value.\n",
    "    -> Statements are typically made up of expressions, keywords, and other programming constructs.\n",
    "    -> They can include variable assignments, function calls, control flow structures (such as if statements and loops), and declarations.\n",
    "    -> Examples of statements: x = 10, print(\"Hello, world!\"), if condition:, while loop:, def function():.\n",
    "\n",
    "~> In Python, x = 10 is a statement because it assigns the value 10 to the variable x.\n",
    "~> In contrast, 3 + 5 is an expression because it evaluates to the value 8.\n",
    "Here's another example:\n",
    "\n",
    "~> len(\"hello\") is an expression because it returns the length of the string \"hello\".\n",
    "~> print(\"Hello, world!\") is a statement because it instructs the program to print the string \"Hello, world!\" to the console."
   ]
  },
  {
   "cell_type": "markdown",
   "metadata": {},
   "source": [
    "## Question 6\n",
    "After running the following code, what does the variable \"bacon\" contain?\n",
    "\n",
    "bacon = 22 <br>\n",
    "\n",
    "bacon + 1"
   ]
  },
  {
   "cell_type": "code",
   "execution_count": 1,
   "metadata": {},
   "outputs": [
    {
     "data": {
      "text/plain": [
       "23"
      ]
     },
     "execution_count": 1,
     "metadata": {},
     "output_type": "execute_result"
    }
   ],
   "source": [
    "bacon = 22\n",
    "\n",
    "bacon + 1"
   ]
  },
  {
   "cell_type": "markdown",
   "metadata": {},
   "source": [
    "## Question 7\n",
    "Determine the values of the following two terms:<br>\n",
    "'spam' + 'spamspam'<br>\n",
    "'spam' * 3\n",
    "\n"
   ]
  },
  {
   "cell_type": "code",
   "execution_count": 2,
   "metadata": {},
   "outputs": [
    {
     "data": {
      "text/plain": [
       "'spamspamspam'"
      ]
     },
     "execution_count": 2,
     "metadata": {},
     "output_type": "execute_result"
    }
   ],
   "source": [
    "'spam' + 'spamspam'\n",
    "'spam' * 3\n"
   ]
  },
  {
   "cell_type": "markdown",
   "metadata": {},
   "source": [
    "## Question 8\n",
    "\n",
    "Why is \"eggs\" a valid variable name while \"100\" is invalid?"
   ]
  },
  {
   "cell_type": "code",
   "execution_count": null,
   "metadata": {},
   "outputs": [],
   "source": [
    "-> \"eggs\" is a valid variable name because it starts with a letter and can contain letters, numbers, and underscores. Variable names in most programming languages cannot start with a number.\n",
    "-> \"100\" is invalid because it starts with a number, and variable names typically cannot begin with a digit in most programming languages. However, it can be used as a value or part of a variable name if it follows a letter or underscore."
   ]
  },
  {
   "cell_type": "markdown",
   "metadata": {},
   "source": [
    "## Question 9\n",
    "\n",
    "List three functions that can be used to obtain the integer, floating-point number, or string version of a value."
   ]
  },
  {
   "cell_type": "code",
   "execution_count": 5,
   "metadata": {},
   "outputs": [],
   "source": [
    "# 1. Integer Conversion:\n",
    "# -> int(): This function converts a value to an integer. It can be used with numeric strings or floating-point numbers to obtain their integer representation.\n",
    "\n",
    "int_value = int(\"10\")  # Converts the string \"10\" to an integer\n",
    "\n",
    "# 2. Floating-Point Conversion:\n",
    "# -> float(): This function converts a value to a floating-point number. It can be used with integers or numeric strings to obtain their floating-point representation.\n",
    "\n",
    "float_value = float(10)  # Converts the integer 10 to a floating-point number\n",
    "\n",
    "\n",
    "# 3. String Conversion:\n",
    "# -> str(): This function converts a value to a string. It can be used with integers, floating-point numbers, or any other data type to obtain their string representation.\n",
    "\n",
    "str_value = str(3.14)  # Converts the floating-point number 3.14 to a string\n"
   ]
  },
  {
   "cell_type": "markdown",
   "metadata": {},
   "source": [
    "## Question 10 \n",
    "Explain why the following expression causes an error and suggest how to fix it:<br>\n",
    "'I have eaten ' + 99 + ' burritos.'\n",
    "\n"
   ]
  },
  {
   "cell_type": "code",
   "execution_count": null,
   "metadata": {},
   "outputs": [],
   "source": [
    "The expression 'I have eaten ' + 99 + ' burritos.' causes an error because it tries to concatenate a string ('I have eaten ') with an integer (99) directly. In many programming languages, including Python, concatenation operations between strings and integers are not allowed without explicit conversion.\n",
    "\n",
    "To fix this error, you need to convert the integer 99 into a string before concatenating it with the other strings. You can do this using the str() function:\n",
    "    \n",
    "    'I have eaten ' + str(99) + ' burritos.'\n"
   ]
  },
  {
   "cell_type": "markdown",
   "metadata": {},
   "source": [
    "## Question 11\n",
    "Write a Python program to calculate the sum of two numbers and print the result.\n",
    "gative, or zero."
   ]
  },
  {
   "cell_type": "code",
   "execution_count": 6,
   "metadata": {},
   "outputs": [
    {
     "name": "stdout",
     "output_type": "stream",
     "text": [
      "Enter the first number: 2\n",
      "Enter the second number: 3\n",
      "The sum of 2.0 and 3.0 is: 5.0\n"
     ]
    }
   ],
   "source": [
    "# Function to calculate the sum of two numbers\n",
    "def calculate_sum(num1, num2):\n",
    "    return num1 + num2\n",
    "\n",
    "# Input the numbers from the user\n",
    "num1 = float(input(\"Enter the first number: \"))\n",
    "num2 = float(input(\"Enter the second number: \"))\n",
    "\n",
    "# Calculate the sum\n",
    "sum_result = calculate_sum(num1, num2)\n",
    "\n",
    "# Print the result\n",
    "print(\"The sum of\", num1, \"and\", num2, \"is:\", sum_result)\n"
   ]
  },
  {
   "cell_type": "markdown",
   "metadata": {},
   "source": [
    "## Question 12\n",
    "Create a Python program that takes the user's name as input and prints a greeting message.\n",
    "\n"
   ]
  },
  {
   "cell_type": "code",
   "execution_count": 7,
   "metadata": {},
   "outputs": [
    {
     "name": "stdout",
     "output_type": "stream",
     "text": [
      "Enter your name: Ravi Kishan\n",
      "Hello, Ravi Kishan! Welcome to our program.\n"
     ]
    }
   ],
   "source": [
    "# Prompt the user to input their name\n",
    "name = input(\"Enter your name: \")\n",
    "\n",
    "# Print a greeting message\n",
    "print(\"Hello, \" + name + \"! Welcome to our program.\")\n"
   ]
  },
  {
   "cell_type": "markdown",
   "metadata": {},
   "source": [
    "## Question 13\n",
    "Write a Python program to calculate the area of a rectangle given its length and width. (Assume length and width are provided as inputs.)\n",
    "\n"
   ]
  },
  {
   "cell_type": "code",
   "execution_count": 8,
   "metadata": {},
   "outputs": [
    {
     "name": "stdout",
     "output_type": "stream",
     "text": [
      "Enter the length of the rectangle: 40\n",
      "Enter the width of the rectangle: 20\n",
      "The area of the rectangle with length 40.0 and width 20.0 is: 800.0\n"
     ]
    }
   ],
   "source": [
    "# Input the length and width of the rectangle from the user\n",
    "length = float(input(\"Enter the length of the rectangle: \"))\n",
    "width = float(input(\"Enter the width of the rectangle: \"))\n",
    "\n",
    "# Calculate the area of the rectangle\n",
    "area = length * width\n",
    "\n",
    "# Print the area of the rectangle\n",
    "print(\"The area of the rectangle with length\", length, \"and width\", width, \"is:\", area)\n"
   ]
  },
  {
   "cell_type": "markdown",
   "metadata": {},
   "source": [
    "## Question 14\n",
    "Create a Python program that asks the user for their age and prints out a message saying whether they are a child, teenager, or adult based on their age.\n",
    "\n"
   ]
  },
  {
   "cell_type": "code",
   "execution_count": 9,
   "metadata": {},
   "outputs": [
    {
     "name": "stdout",
     "output_type": "stream",
     "text": [
      "Enter your age: 34\n",
      "You are an adult.\n"
     ]
    }
   ],
   "source": [
    "# Input the age from the user\n",
    "age = int(input(\"Enter your age: \"))\n",
    "\n",
    "# Check the age range and print the corresponding message\n",
    "if age < 0:\n",
    "    print(\"Invalid age! Please enter a positive number.\")\n",
    "elif age < 13:\n",
    "    print(\"You are a child.\")\n",
    "elif age < 20:\n",
    "    print(\"You are a teenager.\")\n",
    "else:\n",
    "    print(\"You are an adult.\")\n"
   ]
  },
  {
   "cell_type": "markdown",
   "metadata": {},
   "source": [
    "## Question 15\n",
    "Write a Python program to convert temperature from Celsius to Fahrenheit. (Assume Celsius temperature is provided as input.)\n",
    "\n"
   ]
  },
  {
   "cell_type": "code",
   "execution_count": 10,
   "metadata": {},
   "outputs": [
    {
     "name": "stdout",
     "output_type": "stream",
     "text": [
      "Enter the temperature in Celsius: 40\n",
      "The temperature in Fahrenheit is: 104.0\n"
     ]
    }
   ],
   "source": [
    "# Input the temperature in Celsius from the user\n",
    "celsius = float(input(\"Enter the temperature in Celsius: \"))\n",
    "\n",
    "# Convert Celsius to Fahrenheit\n",
    "fahrenheit = (celsius * 9/5) + 32\n",
    "\n",
    "# Print the converted temperature in Fahrenheit\n",
    "print(\"The temperature in Fahrenheit is:\", fahrenheit)\n"
   ]
  },
  {
   "cell_type": "markdown",
   "metadata": {},
   "source": [
    "## Question 16\n",
    "Create a Python program that takes the radius of a circle as input and calculates its area. (Assume the value of pi is 3.14.)\n",
    "\n"
   ]
  },
  {
   "cell_type": "code",
   "execution_count": 11,
   "metadata": {},
   "outputs": [
    {
     "name": "stdout",
     "output_type": "stream",
     "text": [
      "Enter the radius of the circle: 9\n",
      "The area of the circle with radius 9.0 is: 56.52\n"
     ]
    }
   ],
   "source": [
    "# Input the radius of the circle from the user\n",
    "radius = float(input(\"Enter the radius of the circle: \"))\n",
    "\n",
    "# Assume the value of pi\n",
    "pi = 3.14\n",
    "\n",
    "# Calculate the area of the circle\n",
    "area = pi * radius * 2\n",
    "\n",
    "# Print the calculated area\n",
    "print(\"The area of the circle with radius\", radius, \"is:\", area)\n"
   ]
  },
  {
   "cell_type": "markdown",
   "metadata": {},
   "source": [
    "## Question 17\n",
    "Write a Python program to find the maximum of two numbers entered by the user.\n",
    "\n"
   ]
  },
  {
   "cell_type": "code",
   "execution_count": 12,
   "metadata": {},
   "outputs": [
    {
     "name": "stdout",
     "output_type": "stream",
     "text": [
      "Enter the first number: 23\n",
      "Enter the second number: 12\n",
      "The maximum of 23.0 and 12.0 is: 23.0\n"
     ]
    }
   ],
   "source": [
    "# Input the two numbers from the user\n",
    "num1 = float(input(\"Enter the first number: \"))\n",
    "num2 = float(input(\"Enter the second number: \"))\n",
    "\n",
    "# Compare the numbers and find the maximum\n",
    "if num1 > num2:\n",
    "    maximum = num1\n",
    "else:\n",
    "    maximum = num2\n",
    "\n",
    "# Print the maximum number\n",
    "print(\"The maximum of\", num1, \"and\", num2, \"is:\", maximum)\n"
   ]
  },
  {
   "cell_type": "markdown",
   "metadata": {},
   "source": [
    "## Question 18\n",
    "Create a Python program that asks the user to enter two numbers and prints out their product.\n",
    "\n"
   ]
  },
  {
   "cell_type": "code",
   "execution_count": 13,
   "metadata": {},
   "outputs": [
    {
     "name": "stdout",
     "output_type": "stream",
     "text": [
      "Enter the first number: 23\n",
      "Enter the second number: 7\n",
      "The product of 23.0 and 7.0 is: 161.0\n"
     ]
    }
   ],
   "source": [
    "# Input the two numbers from the user\n",
    "num1 = float(input(\"Enter the first number: \"))\n",
    "num2 = float(input(\"Enter the second number: \"))\n",
    "\n",
    "# Calculate the product of the two numbers\n",
    "product = num1 * num2\n",
    "\n",
    "# Print the product of the two numbers\n",
    "print(\"The product of\", num1, \"and\", num2, \"is:\", product)\n"
   ]
  },
  {
   "cell_type": "markdown",
   "metadata": {},
   "source": [
    "## Question 19\n",
    "Write a Python program that prompts the user to enter a number and then prints whether the number is positive, negative, or zero."
   ]
  },
  {
   "cell_type": "code",
   "execution_count": 14,
   "metadata": {},
   "outputs": [
    {
     "name": "stdout",
     "output_type": "stream",
     "text": [
      "Enter a number: 2\n",
      "The number entered is positive.\n"
     ]
    }
   ],
   "source": [
    "# Input the number from the user\n",
    "number = float(input(\"Enter a number: \"))\n",
    "\n",
    "# Check if the number is positive, negative, or zero\n",
    "if number > 0:\n",
    "    print(\"The number entered is positive.\")\n",
    "elif number < 0:\n",
    "    print(\"The number entered is negative.\")\n",
    "else:\n",
    "    print(\"The number entered is zero.\")\n"
   ]
  }
 ],
 "metadata": {
  "anaconda-cloud": {},
  "kernelspec": {
   "display_name": "Python 3 (ipykernel)",
   "language": "python",
   "name": "python3"
  },
  "language_info": {
   "codemirror_mode": {
    "name": "ipython",
    "version": 3
   },
   "file_extension": ".py",
   "mimetype": "text/x-python",
   "name": "python",
   "nbconvert_exporter": "python",
   "pygments_lexer": "ipython3",
   "version": "3.11.5"
  }
 },
 "nbformat": 4,
 "nbformat_minor": 4
}
